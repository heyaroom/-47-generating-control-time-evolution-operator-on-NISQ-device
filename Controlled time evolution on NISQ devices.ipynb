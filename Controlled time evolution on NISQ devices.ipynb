{
 "cells": [
  {
   "cell_type": "markdown",
   "metadata": {
    "heading_collapsed": true
   },
   "source": [
    "# Presentation slide"
   ]
  },
  {
   "cell_type": "code",
   "execution_count": 100,
   "metadata": {
    "ExecuteTime": {
     "end_time": "2019-11-20T04:11:49.249615Z",
     "start_time": "2019-11-20T04:11:49.242801Z"
    },
    "hidden": true
   },
   "outputs": [],
   "source": [
    "from IPython.display import IFrame"
   ]
  },
  {
   "cell_type": "code",
   "execution_count": null,
   "metadata": {
    "hidden": true
   },
   "outputs": [],
   "source": [
    "IFrame(\"./191119_qiskit.pdf\", width=600, height=300)"
   ]
  },
  {
   "cell_type": "markdown",
   "metadata": {
    "heading_collapsed": true
   },
   "source": [
    "# Module import"
   ]
  },
  {
   "cell_type": "code",
   "execution_count": 15,
   "metadata": {
    "ExecuteTime": {
     "end_time": "2019-11-19T23:47:47.510218Z",
     "start_time": "2019-11-19T23:47:47.493112Z"
    },
    "hidden": true
   },
   "outputs": [],
   "source": [
    "import numpy as np\n",
    "import matplotlib.pyplot as plt\n",
    "import copy\n",
    "import scipy.linalg as lin"
   ]
  },
  {
   "cell_type": "code",
   "execution_count": 2,
   "metadata": {
    "ExecuteTime": {
     "end_time": "2019-11-19T23:42:21.701281Z",
     "start_time": "2019-11-19T23:42:18.752596Z"
    },
    "hidden": true
   },
   "outputs": [],
   "source": [
    "from qiskit import *\n",
    "from qiskit import Aer"
   ]
  },
  {
   "cell_type": "code",
   "execution_count": 2,
   "metadata": {
    "ExecuteTime": {
     "end_time": "2019-11-20T04:48:17.614878Z",
     "start_time": "2019-11-20T04:48:17.172415Z"
    },
    "hidden": true
   },
   "outputs": [],
   "source": [
    "# import sequential_minimal_optimizer as smo\n",
    "from util import *"
   ]
  },
  {
   "cell_type": "code",
   "execution_count": 4,
   "metadata": {
    "ExecuteTime": {
     "end_time": "2019-11-19T23:42:21.779853Z",
     "start_time": "2019-11-19T23:42:21.750358Z"
    },
    "code_folding": [],
    "hidden": true
   },
   "outputs": [],
   "source": [
    "def parametrized_quantum_circuit(circuit,param):\n",
    "    p = copy.copy(param.tolist())\n",
    "    for i in range(d):\n",
    "        for j in range(n):\n",
    "            circuit.rx(0.5*np.pi,j)\n",
    "            circuit.rz( p.pop(0),j)\n",
    "            circuit.rx(0.5*np.pi,j)\n",
    "            circuit.rz( p.pop(0),j)\n",
    "        for j in range(n-1):\n",
    "            circuit.cz(j,j+1)\n",
    "    for j in range(n):\n",
    "        circuit.rx(0.5*np.pi,j)\n",
    "        circuit.rz( p.pop(0),j)\n",
    "        circuit.rx(0.5*np.pi,j)\n",
    "        circuit.rz( p.pop(0),j)     \n",
    "def parametrized_quantum_circuit_inv(circuit,param):\n",
    "    p = copy.copy(param.tolist())\n",
    "    for j in range(n):\n",
    "        circuit.rz(  -p.pop(),n-j-1)\n",
    "        circuit.rx(-0.5*np.pi,n-j-1)\n",
    "        circuit.rz(  -p.pop(),n-j-1)\n",
    "        circuit.rx(-0.5*np.pi,n-j-1)\n",
    "    for i in range(d):\n",
    "        for j in range(n-1):\n",
    "            circuit.cz(j,j+1)\n",
    "        for j in range(n):\n",
    "            circuit.rz(  -p.pop(),n-j-1)\n",
    "            circuit.rx(-0.5*np.pi,n-j-1)\n",
    "            circuit.rz(  -p.pop(),n-j-1)\n",
    "            circuit.rx(-0.5*np.pi,n-j-1)"
   ]
  },
  {
   "cell_type": "code",
   "execution_count": 5,
   "metadata": {
    "ExecuteTime": {
     "end_time": "2019-11-19T23:42:21.850514Z",
     "start_time": "2019-11-19T23:42:21.795922Z"
    },
    "code_folding": [
     0
    ],
    "hidden": true
   },
   "outputs": [],
   "source": [
    "class model_for_ssvqe:\n",
    "    def __init__(self,observal,func,func_inv,n_param,n_sub):\n",
    "        self.n_param  = n_param\n",
    "        self.n_sub    = n_sub\n",
    "        self.func     = func\n",
    "        self.func_inv = func_inv\n",
    "        self.obs      = observal\n",
    "        self.weight   = 1 + np.arange(n_sub)[::-1]\n",
    "        self.eval     = np.sort(np.linalg.eig(observal)[0].real)\n",
    "        self.evec     = np.linalg.eig(observal)[1].T[np.argsort(np.linalg.eig(observal)[0].real)]\n",
    "        self.backend  = Aer.get_backend('statevector_simulator')\n",
    "        \n",
    "        self.de       = []\n",
    "        self.dc       = []\n",
    "        self.dp       = []\n",
    "        self.df       = []\n",
    "        \n",
    "    def measurement(self,phi):\n",
    "        energy   = []\n",
    "        fidelity = []\n",
    "        for i in range(self.n_sub):\n",
    "            circ = QuantumCircuit(n)\n",
    "            circ.x(int(i))\n",
    "            self.func(circ,phi)\n",
    "            job = execute(circ, self.backend)\n",
    "            result = job.result()\n",
    "            outputstate = np.array(result.get_statevector(circ, decimals=3))\n",
    "            energy.append(calculate_energy(outputstate,self.obs))\n",
    "            fidelity.append(abs(outputstate.T.conj()@self.evec[i]))\n",
    "        return np.array(energy),np.array(fidelity)\n",
    "        \n",
    "    def step(self,phi,evaluate=False,stop_signal=False):\n",
    "        energy, fidelity   = self.measurement(phi)\n",
    "        cost               = (self.weight*energy).sum()\n",
    "        if evaluate:\n",
    "            self.de.append(energy)\n",
    "            self.dc.append(cost)\n",
    "            self.dp.append(phi)\n",
    "            self.df.append(fidelity)\n",
    "        return cost\n",
    "    \n",
    "    def plot(self,log=True):\n",
    "        plt.rcParams['ytick.minor.visible'] = False\n",
    "        plt.rcParams['xtick.top']           = True\n",
    "        plt.rcParams['ytick.right']         = True\n",
    "        plt.rcParams['ytick.minor.visible'] = False\n",
    "        plt.rcParams['xtick.direction']     = 'in'\n",
    "        plt.rcParams['ytick.direction']     = 'in'\n",
    "        plt.rcParams['font.family']         = 'arial'\n",
    "        plt.rcParams[\"mathtext.fontset\"]    = 'stixsans'\n",
    "        plt.rcParams['xtick.major.width']   = 0.5\n",
    "        plt.rcParams['ytick.major.width']   = 0.5\n",
    "        plt.rcParams['font.size']           = 16\n",
    "        plt.rcParams['axes.linewidth']      = 1.0\n",
    "        \n",
    "        plt.figure(figsize=(7,5))\n",
    "        plt.subplot(211)\n",
    "        for i in range(self.n_sub):\n",
    "            plt.plot(np.array(self.de).T[i],'-',label='SSVQE$(E_%s)$'%(i))\n",
    "        plt.plot(self.eval[0]*np.ones(len(self.df)),'k--',label='Energy levels')  \n",
    "        for i in self.eval[1:]:\n",
    "            plt.plot(i*np.ones(len(self.df)),'k--')    \n",
    "        plt.ylabel('Energy (Ha)')\n",
    "        plt.tick_params(labelbottom=False, labelleft=True, labelright=False, labeltop=False)\n",
    "        plt.xlim(0,len(self.df)-1)\n",
    "        plt.legend(bbox_to_anchor=(1.05, 1), loc='upper left', borderaxespad=0, fontsize=14)\n",
    "        plt.subplot(212)\n",
    "        \n",
    "        if log:\n",
    "            for i in np.array(self.df).T:\n",
    "                plt.plot(1-i)\n",
    "            plt.yscale('log')\n",
    "            plt.ylabel('Infidelity')\n",
    "        else:\n",
    "            for i in np.array(self.df).T:\n",
    "                plt.plot(i)\n",
    "            plt.ylim(0,1)\n",
    "            plt.ylabel('Fidelity')\n",
    "            \n",
    "        iteration = np.linspace(0,len(self.df),5,dtype=np.int)\n",
    "        iteration_label = iteration.astype(np.str)\n",
    "        plt.xticks(iteration,iteration_label)\n",
    "        plt.xlabel('# of iteration')\n",
    "        plt.xlim(0,len(self.df)-1)\n",
    "        plt.tight_layout()\n",
    "        plt.show()"
   ]
  },
  {
   "cell_type": "code",
   "execution_count": 6,
   "metadata": {
    "ExecuteTime": {
     "end_time": "2019-11-19T23:42:21.886050Z",
     "start_time": "2019-11-19T23:42:21.855060Z"
    },
    "code_folding": [
     0
    ],
    "hidden": true
   },
   "outputs": [],
   "source": [
    "class model_for_svqs:\n",
    "    def __init__(self,ssvqe):\n",
    "        self.n_param  = ssvqe.n_param\n",
    "        self.n_sub    = ssvqe.n_sub\n",
    "        self.func     = ssvqe.func\n",
    "        self.func_inv = ssvqe.func_inv\n",
    "        self.backend  = ssvqe.backend\n",
    "        self.de       = ssvqe.de[-1]\n",
    "        self.dp       = ssvqe.dp[-1]\n",
    "        \n",
    "    def time_evolution(self,circuit,t):\n",
    "        self.func_inv(circuit,self.dp)\n",
    "        for i,j in zip(self.de,np.arange(self.n_sub)):\n",
    "            circuit.rz(-i*t,int(j))\n",
    "        self.func(circuit,self.dp)\n",
    "        \n",
    "    def measurement(self,state,observable,tlist):\n",
    "        self.dm       = []\n",
    "        circ = QuantumCircuit(n)\n",
    "        for t in tlist:\n",
    "            circ.initialize(params=state,qubits=circ.qubits)\n",
    "            self.time_evolution(circ,t)\n",
    "            job = execute(circ, self.backend)\n",
    "            result = job.result()\n",
    "            outputstate = np.array(result.get_statevector(circ, decimals=3))\n",
    "            self.dm.append(calculate_energy(outputstate,observable))\n",
    "    \n",
    "    def plot(self):\n",
    "        plt.rcParams['ytick.minor.visible'] = False\n",
    "        plt.rcParams['xtick.top']           = True\n",
    "        plt.rcParams['ytick.right']         = True\n",
    "        plt.rcParams['ytick.minor.visible'] = False\n",
    "        plt.rcParams['xtick.direction']     = 'in'\n",
    "        plt.rcParams['ytick.direction']     = 'in'\n",
    "        plt.rcParams['font.family']         = 'arial'\n",
    "        plt.rcParams[\"mathtext.fontset\"]    = 'stixsans'\n",
    "        plt.rcParams['xtick.major.width']   = 0.5\n",
    "        plt.rcParams['ytick.major.width']   = 0.5\n",
    "        plt.rcParams['font.size']           = 16\n",
    "        plt.rcParams['axes.linewidth']      = 1.0\n",
    "        \n",
    "        plt.figure(figsize=(5,5))\n",
    "        plt.plot(tlist,self.dm,'k.-')\n",
    "        plt.xlabel('Evolution time (ns)')\n",
    "        plt.ylabel('Observable')\n",
    "        plt.tight_layout()\n",
    "        plt.show()"
   ]
  },
  {
   "cell_type": "code",
   "execution_count": 7,
   "metadata": {
    "ExecuteTime": {
     "end_time": "2019-11-19T23:42:21.923748Z",
     "start_time": "2019-11-19T23:42:21.891279Z"
    },
    "code_folding": [
     0
    ],
    "hidden": true
   },
   "outputs": [],
   "source": [
    "class model_for_csvqs:\n",
    "    def __init__(self,ssvqe):\n",
    "        self.n_param  = ssvqe.n_param\n",
    "        self.n_sub    = ssvqe.n_sub\n",
    "        self.func     = ssvqe.func\n",
    "        self.func_inv = ssvqe.func_inv\n",
    "        self.backend  = ssvqe.backend\n",
    "        self.de       = ssvqe.de[-1]\n",
    "        self.dp       = ssvqe.dp[-1]\n",
    "        \n",
    "    def control_time_evolution(self,circuit,t):\n",
    "        self.func_inv(circuit,self.dp)\n",
    "        for i,j in zip(self.de,np.arange(self.n_sub)):\n",
    "            circuit.crz(-i*t,n,int(j))\n",
    "        self.func(circuit,self.dp)\n",
    "        \n",
    "    def measurement(self,state,ancilla,observable,tlist):\n",
    "        I = np.array([[1,0],[0,1]])\n",
    "        state_with_ancilla      = np.kron(ancilla,state) # np.kron(state,ancilla)\n",
    "        observable_with_ancilla = np.kron(I,observable) # np.kron(observable,I)\n",
    "        self.dm       = []\n",
    "        circ = QuantumCircuit(n+1)\n",
    "        for t in tlist:\n",
    "            circ.initialize(params=state_with_ancilla,qubits=circ.qubits)\n",
    "            self.control_time_evolution(circ,t)\n",
    "            job = execute(circ, self.backend)\n",
    "            result = job.result()\n",
    "            outputstate = np.array(result.get_statevector(circ, decimals=3))\n",
    "            self.dm.append(calculate_energy(outputstate,observable_with_ancilla))\n",
    "    \n",
    "    def plot(self):\n",
    "        plt.rcParams['ytick.minor.visible'] = False\n",
    "        plt.rcParams['xtick.top']           = True\n",
    "        plt.rcParams['ytick.right']         = True\n",
    "        plt.rcParams['ytick.minor.visible'] = False\n",
    "        plt.rcParams['xtick.direction']     = 'in'\n",
    "        plt.rcParams['ytick.direction']     = 'in'\n",
    "        plt.rcParams['font.family']         = 'arial'\n",
    "        plt.rcParams[\"mathtext.fontset\"]    = 'stixsans'\n",
    "        plt.rcParams['xtick.major.width']   = 0.5\n",
    "        plt.rcParams['ytick.major.width']   = 0.5\n",
    "        plt.rcParams['font.size']           = 16\n",
    "        plt.rcParams['axes.linewidth']      = 1.0\n",
    "        \n",
    "        plt.figure(figsize=(5,5))\n",
    "        plt.plot(tlist,self.dm,'k.-')\n",
    "        plt.xlabel('Evolution time (ns)')\n",
    "        plt.ylabel('Observable')\n",
    "        plt.tight_layout()\n",
    "        plt.show()"
   ]
  },
  {
   "cell_type": "markdown",
   "metadata": {
    "heading_collapsed": true
   },
   "source": [
    "# Subspace-search variational quantum eigensolver (SSVQE)"
   ]
  },
  {
   "cell_type": "markdown",
   "metadata": {
    "hidden": true
   },
   "source": [
    "Generating fully-connected transversal Ising Hamiltonian"
   ]
  },
  {
   "cell_type": "code",
   "execution_count": 8,
   "metadata": {
    "ExecuteTime": {
     "end_time": "2019-11-19T23:42:21.958127Z",
     "start_time": "2019-11-19T23:42:21.935190Z"
    },
    "hidden": true
   },
   "outputs": [],
   "source": [
    "n           = 2\n",
    "hamiltonian = 0\n",
    "ci  = np.random.random(n)\n",
    "cij = np.random.random([n,n])\n",
    "for i in range(n):\n",
    "    for j in range(n):\n",
    "        if i == j:\n",
    "            hamiltonian += ci[i]*tensor([I]*i+[X]+[I]*(n-i-1))\n",
    "        elif j > i:\n",
    "            hamiltonian += ci[i]*tensor([I]*i+[Z]+[I]*(j-i-1)+[Z]+[I]*(n-j-1))"
   ]
  },
  {
   "cell_type": "markdown",
   "metadata": {
    "ExecuteTime": {
     "end_time": "2019-11-19T23:56:47.523394Z",
     "start_time": "2019-11-19T23:56:47.502049Z"
    },
    "hidden": true
   },
   "source": [
    "<img src=\"figures/ssvqe.png\" style=\"width: 500px;\">"
   ]
  },
  {
   "cell_type": "markdown",
   "metadata": {
    "hidden": true
   },
   "source": [
    "Learn parameterized quantum circuit by SSVQS (https://arxiv.org/abs/1810.09434) with sequential minimal optimization (https://arxiv.org/abs/1903.12166)"
   ]
  },
  {
   "cell_type": "code",
   "execution_count": 9,
   "metadata": {
    "ExecuteTime": {
     "end_time": "2019-11-19T23:46:28.025365Z",
     "start_time": "2019-11-19T23:42:29.518135Z"
    },
    "hidden": true
   },
   "outputs": [
    {
     "data": {
      "image/png": "[encoded data removed]",
      "text/plain": [
       "<Figure size 504x360 with 2 Axes>"
      ]
     },
     "metadata": {
      "needs_background": "light"
     },
     "output_type": "display_data"
    }
   ],
   "source": [
    "d        = 3\n",
    "n_sub    = 2\n",
    "func     = parametrized_quantum_circuit\n",
    "func_inv = parametrized_quantum_circuit_inv\n",
    "n_param  = 2*n*(d+1)\n",
    "ssvqe    = model_for_ssvqe(hamiltonian,func,func_inv,n_param,n_sub)\n",
    "smo.optimize(model=ssvqe, p_seed=0, iteration=500)\n",
    "ssvqe.plot(log=False)"
   ]
  },
  {
   "cell_type": "markdown",
   "metadata": {
    "heading_collapsed": true
   },
   "source": [
    "# Subspace variational quantum simulator (SVQS)"
   ]
  },
  {
   "cell_type": "markdown",
   "metadata": {
    "hidden": true
   },
   "source": [
    "<img src=\"figures/svqs.png\" style=\"width: 500px;\">"
   ]
  },
  {
   "cell_type": "markdown",
   "metadata": {
    "hidden": true
   },
   "source": [
    "Generating superposition state in eigen basis by hand\n",
    "\n",
    "You have another approach not to need it (detail in https://arxiv.org/abs/1904.08566)"
   ]
  },
  {
   "cell_type": "code",
   "execution_count": 94,
   "metadata": {
    "ExecuteTime": {
     "end_time": "2019-11-20T00:47:18.573662Z",
     "start_time": "2019-11-20T00:47:18.431620Z"
    },
    "hidden": true
   },
   "outputs": [],
   "source": [
    "state = []\n",
    "for i in range(n):\n",
    "    circ = QuantumCircuit(n)\n",
    "    circ.x(int(i))\n",
    "    parametrized_quantum_circuit(circ,ssvqe.dp[-1])\n",
    "    job = execute(circ, Aer.get_backend('statevector_simulator'))\n",
    "    result = job.result()\n",
    "    state.append(np.array(result.get_statevector(circ, decimals=3)))\n",
    "state = np.array(state[0] + state[1])\n",
    "state = state/np.linalg.norm(state)"
   ]
  },
  {
   "cell_type": "code",
   "execution_count": 95,
   "metadata": {
    "ExecuteTime": {
     "end_time": "2019-11-20T00:47:20.107239Z",
     "start_time": "2019-11-20T00:47:20.098317Z"
    },
    "hidden": true
   },
   "outputs": [],
   "source": [
    "observable = tensor([Z]+[I])"
   ]
  },
  {
   "cell_type": "markdown",
   "metadata": {
    "hidden": true
   },
   "source": [
    "Run subspace variational quantum simulator (https://arxiv.org/abs/1904.08566)"
   ]
  },
  {
   "cell_type": "code",
   "execution_count": 96,
   "metadata": {
    "ExecuteTime": {
     "end_time": "2019-11-20T00:47:49.219038Z",
     "start_time": "2019-11-20T00:47:21.568763Z"
    },
    "hidden": true
   },
   "outputs": [],
   "source": [
    "tlist = np.linspace(0,10,21)\n",
    "svqs  = model_for_svqs(ssvqe)\n",
    "svqs.measurement(state,observable,tlist)"
   ]
  },
  {
   "cell_type": "code",
   "execution_count": 97,
   "metadata": {
    "ExecuteTime": {
     "end_time": "2019-11-20T00:47:49.982582Z",
     "start_time": "2019-11-20T00:47:49.223002Z"
    },
    "hidden": true
   },
   "outputs": [
    {
     "data": {
      "image/png": "[encoded data removed]",
      "text/plain": [
       "<Figure size 360x216 with 1 Axes>"
      ]
     },
     "metadata": {
      "needs_background": "light"
     },
     "output_type": "display_data"
    }
   ],
   "source": [
    "dm = []\n",
    "plot_tlist = np.linspace(0,10,501)\n",
    "for t in plot_tlist:\n",
    "    out = lin.expm(-1j*hamiltonian*t)@state\n",
    "    obs = (out.T.conj()@observable@out).real\n",
    "    dm.append(obs)\n",
    "plt.figure(figsize=(5,3))\n",
    "plt.plot(plot_tlist,dm,'k-',label='Theory')\n",
    "plt.plot(tlist,svqs.dm,'ro',label='SVQS')\n",
    "plt.xlabel('Time')\n",
    "plt.ylabel('Observable')\n",
    "plt.legend(bbox_to_anchor=(1.05, 1), loc='upper left', borderaxespad=0, fontsize=14)\n",
    "plt.show()"
   ]
  },
  {
   "cell_type": "markdown",
   "metadata": {
    "heading_collapsed": true
   },
   "source": [
    "# Controled subspace variational quantum simulator (CSVQS)"
   ]
  },
  {
   "cell_type": "markdown",
   "metadata": {
    "ExecuteTime": {
     "end_time": "2019-11-19T23:59:48.568517Z",
     "start_time": "2019-11-19T23:59:48.558521Z"
    },
    "hidden": true
   },
   "source": [
    "<img src=\"figures/csvqs.png\" style=\"width: 600px;\">"
   ]
  },
  {
   "cell_type": "code",
   "execution_count": 98,
   "metadata": {
    "ExecuteTime": {
     "end_time": "2019-11-20T00:48:56.506017Z",
     "start_time": "2019-11-20T00:47:49.995215Z"
    },
    "hidden": true
   },
   "outputs": [],
   "source": [
    "# when ancilla = |0>\n",
    "ancilla    = np.array([1,0])\n",
    "tlist      = np.linspace(0,10,21)\n",
    "csvqs0      = model_for_csvqs(ssvqe)\n",
    "csvqs0.measurement(state,ancilla,observable,tlist)\n",
    "\n",
    "# when ancilla = |1>\n",
    "ancilla    = np.array([0,1])\n",
    "csvqs1      = model_for_csvqs(ssvqe)\n",
    "csvqs1.measurement(state,ancilla,observable,tlist)"
   ]
  },
  {
   "cell_type": "code",
   "execution_count": 99,
   "metadata": {
    "ExecuteTime": {
     "end_time": "2019-11-20T00:48:57.302121Z",
     "start_time": "2019-11-20T00:48:56.510378Z"
    },
    "hidden": true
   },
   "outputs": [
    {
     "data": {
      "image/png": "[encoded data removed]",
      "text/plain": [
       "<Figure size 360x216 with 1 Axes>"
      ]
     },
     "metadata": {
      "needs_background": "light"
     },
     "output_type": "display_data"
    }
   ],
   "source": [
    "dm = []\n",
    "plot_tlist = np.linspace(0,10,501)\n",
    "for t in plot_tlist:\n",
    "    out = lin.expm(-1j*hamiltonian*t)@state\n",
    "    obs = (out.T.conj()@observable@out).real\n",
    "    dm.append(obs)\n",
    "plt.figure(figsize=(5,3))\n",
    "plt.plot(plot_tlist,dm,'k-')\n",
    "plt.plot(tlist,csvqs0.dm,'ro',label='Ancilla : 0')\n",
    "plt.plot(tlist,csvqs1.dm,'bo',label='Ancilla : 1')\n",
    "plt.xlabel('Time')\n",
    "plt.ylabel('Observable')\n",
    "plt.legend(bbox_to_anchor=(1.05, 1), loc='upper left', borderaxespad=0, fontsize=14)\n",
    "plt.show()"
   ]
  }
 ],
 "metadata": {
  "kernelspec": {
   "display_name": "qiskit",
   "language": "python",
   "name": "qiskit"
  },
  "language_info": {
   "codemirror_mode": {
    "name": "ipython",
    "version": 3
   },
   "file_extension": ".py",
   "mimetype": "text/x-python",
   "name": "python",
   "nbconvert_exporter": "python",
   "pygments_lexer": "ipython3",
   "version": "3.7.3"
  },
  "toc": {
   "colors": {
    "hover_highlight": "#DAA520",
    "navigate_num": "#000000",
    "navigate_text": "#333333",
    "running_highlight": "#FF0000",
    "selected_highlight": "#FFD700",
    "sidebar_border": "#EEEEEE",
    "wrapper_background": "#FFFFFF"
   },
   "moveMenuLeft": true,
   "nav_menu": {
    "height": "12px",
    "width": "252px"
   },
   "navigate_menu": true,
   "number_sections": true,
   "sideBar": true,
   "threshold": 4,
   "toc_cell": false,
   "toc_section_display": "block",
   "toc_window_display": false,
   "widenNotebook": false
  }
 },
 "nbformat": 4,
 "nbformat_minor": 2
}
